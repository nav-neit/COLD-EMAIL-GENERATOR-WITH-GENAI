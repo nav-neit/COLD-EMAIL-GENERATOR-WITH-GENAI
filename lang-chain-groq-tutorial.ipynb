{
 "cells": [
  {
   "cell_type": "code",
   "execution_count": 1,
   "metadata": {},
   "outputs": [
    {
     "name": "stdout",
     "output_type": "stream",
     "text": [
      "**Quantum Mechanics in a Nutshell:**\n",
      "\n",
      "Quantum Mechanics is a branch of physics that studies the behavior of matter and energy at an atomic and subatomic level. It explains how tiny particles like atoms, electrons, and photons interact with each other.\n",
      "\n",
      "**Key Principles:**\n",
      "\n",
      "1. **Wave-Particle Duality**: Tiny particles can behave like both waves and particles.\n",
      "2. **Uncertainty Principle**: It's impossible to know certain properties of a particle, like position and speed, simultaneously with infinite precision.\n",
      "3. **Superposition**: Particles can exist in multiple states at the same time.\n",
      "4. **Entanglement**: Particles can be connected and affect each other, even when separated by large distances.\n",
      "\n",
      "**In Simple Terms:**\n",
      "\n",
      "Quantum Mechanics shows that the tiny building blocks of our world don't follow the same rules as the big, visible world. They can be in many places at once, be connected in strange ways, and behave randomly. This leads to some pretty weird and cool phenomena, like quantum computing, cryptography, and even the possibility of teleportation.\n"
     ]
    }
   ],
   "source": [
    "from langchain_groq import ChatGroq\n",
    "\n",
    "llm = ChatGroq(\n",
    "    model = \"llama-3.3-70b-versatile\",\n",
    "    temperature = 0,\n",
    "    groq_api_key = \"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\"\n",
    ")\n",
    "\n",
    "response = llm.invoke(\"What is Quantum Mechanics? Explain in a Nutshell\")\n",
    "print(response.content)"
   ]
  },
  {
   "cell_type": "code",
   "execution_count": null,
   "metadata": {},
   "outputs": [],
   "source": []
  }
 ],
 "metadata": {
  "kernelspec": {
   "display_name": "Python 3",
   "language": "python",
   "name": "python3"
  },
  "language_info": {
   "codemirror_mode": {
    "name": "ipython",
    "version": 3
   },
   "file_extension": ".py",
   "mimetype": "text/x-python",
   "name": "python",
   "nbconvert_exporter": "python",
   "pygments_lexer": "ipython3",
   "version": "3.9.0"
  }
 },
 "nbformat": 4,
 "nbformat_minor": 2
}
