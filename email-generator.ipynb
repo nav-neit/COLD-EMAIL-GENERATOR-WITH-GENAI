{
 "cells": [
  {
   "cell_type": "markdown",
   "metadata": {},
   "source": [
    "#### Import LLM from groqcloud"
   ]
  },
  {
   "cell_type": "code",
   "execution_count": 1,
   "metadata": {},
   "outputs": [],
   "source": [
    "from langchain_groq import ChatGroq"
   ]
  },
  {
   "cell_type": "code",
   "execution_count": 2,
   "metadata": {},
   "outputs": [
    {
     "name": "stdout",
     "output_type": "stream",
     "text": [
      "**Quantum Computing in a Nutshell:**\n",
      "\n",
      "Quantum Computing is a revolutionary technology that uses the principles of quantum mechanics to perform calculations and operations on data. It's different from classical computing, which uses bits (0s and 1s) to process information.\n",
      "\n",
      "**Key aspects:**\n",
      "\n",
      "1. **Qubits**: Quantum Computing uses quantum bits (qubits) that can exist in multiple states (0, 1, and both) simultaneously.\n",
      "2. **Superposition**: Qubits can process multiple possibilities at the same time, making them incredibly fast.\n",
      "3. **Entanglement**: Qubits can be connected, allowing them to affect each other even when separated.\n",
      "4. **Quantum algorithms**: Special algorithms are designed to take advantage of qubits' unique properties.\n",
      "\n",
      "**Potential benefits:**\n",
      "\n",
      "1. **Faster processing**: Quantum Computing can solve complex problems much faster than classical computers.\n",
      "2. **Cryptography**: Quantum Computing can break certain encryption methods, but it can also create unbreakable ones.\n",
      "3. **Optimization**: Quantum Computing can optimize complex systems, like logistics or finance.\n",
      "\n",
      "**In summary:** Quantum Computing is a powerful technology that uses qubits to perform calculations, potentially solving complex problems faster and more efficiently than classical computers.\n"
     ]
    }
   ],
   "source": [
    "llm = ChatGroq(\n",
    "    model = \"llama-3.3-70b-versatile\",\n",
    "    temperature = 0,\n",
    "    groq_api_key = \"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\"\n",
    ")\n",
    "\n",
    "response = llm.invoke(\"What is Quantum Computing? Explain in a Nutshell\")\n",
    "print(response.content)"
   ]
  },
  {
   "cell_type": "markdown",
   "metadata": {},
   "source": [
    "### Scrap the data from the company's job posting website \n",
    "For this we can use langchain webbaseloader <br>\n",
    "We need to install langchain_community package"
   ]
  },
  {
   "cell_type": "code",
   "execution_count": 3,
   "metadata": {},
   "outputs": [
    {
     "name": "stderr",
     "output_type": "stream",
     "text": [
      "USER_AGENT environment variable not set, consider setting it to identify your requests.\n"
     ]
    }
   ],
   "source": [
    "from langchain_community.document_loaders import WebBaseLoader\n",
    "\n",
    "loader = WebBaseLoader(\"https://careers.nike.com/lead-machine-learning-engineer-supply-chain/job/R-40001\")"
   ]
  },
  {
   "cell_type": "code",
   "execution_count": 4,
   "metadata": {},
   "outputs": [
    {
     "name": "stdout",
     "output_type": "stream",
     "text": [
      "\n",
      " Lead Machine Learning Engineer - Supply Chain\n",
      " Skip to main content\n",
      " Open Virtual Assistant\n",
      " Home\n",
      " Career Areas\n",
      " Total Rewards\n",
      " Life@Nike\n",
      " Purpose\n",
      " Language\n",
      " Select a Language\n",
      "   Deutsch  \n",
      "   English  \n",
      "   Español (España)  \n",
      "   Español (América Latina)  \n",
      "   Français  \n",
      "   Italiano  \n",
      "   Nederlands  \n",
      "   Polski  \n",
      "   Tiếng Việt  \n",
      "   Türkçe  \n",
      "   简体中文  \n",
      "   繁體中文  \n",
      "   עִברִית  \n",
      "   한국어  \n",
      "   日本語  \n",
      " Careers\n",
      " Close Menu\n",
      " Careers\n",
      " Chat\n",
      "                                 Home\n",
      "                             \n",
      "                                 Career Areas\n",
      "                             \n",
      "                                 Total Rewards\n",
      "                             \n",
      "                                 Life@Nike\n",
      "                             \n",
      "                                 Purpose\n",
      "                             \n",
      " Jordan Careers\n",
      " Converse Careers\n",
      " Language\n",
      " Menu\n",
      " Return to Previous Menu\n",
      " Select a Language\n",
      "   Deutsch  \n",
      "   English  \n",
      "   Español (España)  \n",
      "   Español (América Latina)  \n",
      "   Français  \n",
      "   Italiano  \n",
      "   Nederlands  \n",
      "   Polski  \n",
      "   Tiếng Việt  \n",
      "   Türkçe  \n",
      "   简体中文  \n",
      "   繁體中文  \n",
      "   עִברִית  \n",
      "   한국어  \n",
      "   日本語  \n",
      "                                 Back to Search\n",
      "                             \n",
      " Lead Machine Learning Engineer - Supply Chain\n",
      " Categories ID\n",
      " Categories URL\n",
      " Position Type\n",
      " Full Time\n",
      " Date Posted\n",
      " Primary Quest ID\n",
      " Second Quest ID\n",
      " Job Classification\n",
      " Career area\n",
      " Analytics\n",
      " Location\n",
      " 1 Bowerman Drive, Beaverton, Oregon 97005, United States\n",
      " Job ID\n",
      " R-40001\n",
      "                                     Apply Now\n",
      "                                 \n",
      " Share Job\n",
      " Share Job Posting\n",
      " Facebook\n",
      " Opens In A New Tab\n",
      " LinkedIn\n",
      " Link Opens In New Window\n",
      " Email\n",
      " Close-Medium (Default Size)-icon\n",
      " Close Menu\n",
      " Become a Part of the NIKE, Inc. Team\n",
      " NIKE, Inc. does more than outfit the world’s best athletes. It is a place to explore\n",
      "                             potential, obliterate boundaries\n",
      "                             and push out the edges of what can be. The company looks for people who can grow, think,\n",
      "                             dream and create. Its\n",
      "                             culture thrives by embracing diversity and rewarding imagination. The brand seeks achievers,\n",
      "                             leaders and\n",
      "                             visionaries. At NIKE, Inc. it’s about each person bringing skills and passion to a\n",
      "                             challenging and constantly\n",
      "                             evolving game.\n",
      " Open to remote work except in South Dakota, Vermont and West Virginia.The annual base salary for this position ranges from $119,400.00 in our lowest geographic market to $267,500.00 in our highest geographic market. Actual salary will vary based on a candidate's location, qualifications, skills and experience.Information about benefits can be found here. This posting is for five Lead ML Engineer positions within the Enterprise AI/ML function.WHO ARE WE LOOKING FORWe seek passionate engineers to join our team.  As a Lead Machine Learning Engineer, you will develop robust advanced analytics and machine learning solutions that have a direct impact on the business.  You should have experience in Python; a strong background in algorithms and data structures; hands-on AWS experience; as well as experience in database technology (e.g. Postgres, Redis) and data processing technology (e.g. EMR).  You should also have a demonstrable history of team leadership and value delivery, and be comfortable working in an agile product model.  As a Lead ML Engineer, you will be expected to own projects end-to-end - from conception to operationalization, demonstrating an understanding of the full software development lifecycle.  As a result, you will be expected to provide technical vision and guidance to your teammates; therefore, strong communication skills are critical in this role. WHAT WILL YOU WORK ONIf this is you, you’ll be working with the Artificial Intelligence and Machine Learning (AI/ML) team at Nike.  With teammates in Portland, Boston, and Poland, you’ll be joining a global organization working to solve machine learning problems at scale.  You’ll be designing and implementing scalable applications that leverage prediction models and optimization programs to deliver data driven decisions that result in immense business impact.  You’ll also contribute to core advanced analytics and machine learning platforms and tools to enable both prediction and optimization model development.  You thrive when surrounded by talented colleagues and aim to never stop learning. We are looking for candidates who enjoy a collaborative and academic environment where we develop and share new skills, mentor, and contribute knowledge and software back to the analytics and engineering communities both within Nike and at-large.We value and nurture our culture by seeking to always be collaborative, intellectually curious, fun, open, and diverse.WHO WILL YOU WORK WITHIn this role, you’ll be working closely with the rest of our global team, along with commercial and consumer analytics, and enterprise architecture teams.WHAT YOU BRING Bachelor's degree in Computer Science, or combination of relevant education, experience.5+ years of professional experience in software engineering, data engineering, machine learning, or related fieldStrong analytical mindset and experience leading others in problem solvingExperience working in a team to write robust, maintainable, and extendable code in Python; containerized in Docker, and automated with CI/CDExpertise with agile development and test driven developmentExpertise with data structures, data modeling and software architectureExperience with complex data sets, ETL pipelines, SQL, and general data engineeringExpertise in MLOps, API development, or mathematical optimization are highly desirableExpertise with cloud architecture and technologies, in particular Amazon Web ServicesExpertise with technologies like Spark, Kubernetes, Docker, Jenkins, Databricks, Terraform is also highly desirableEffective communication skills (with team members, the business, and in code)Experience providing technical leadership within a team and mentorship to others\n",
      " NIKE, Inc. is a growth company that looks for team members to grow with it. Nike offers a\n",
      "                             generous total rewards\n",
      "                             package, casual work environment, a diverse and inclusive culture, and an electric\n",
      "                             atmosphere for professional\n",
      "                             development. No matter the location, or the role, every Nike employee shares one galvanizing\n",
      "                             mission: To bring\n",
      "                             inspiration and innovation to every athlete* in the world.\n",
      " NIKE, Inc. is an equal opportunity employer. Qualified applicants will receive\n",
      "                             consideration without\n",
      "                             regard to race, color, religion, sex, national origin, age, sexual orientation, gender\n",
      "                             identity, gender expression,\n",
      "                             veteran status, or disability.\n",
      "                                 Apply Now\n",
      "                             \n",
      " Share Job\n",
      " Share Job Posting\n",
      " Faceboox\n",
      " Opens In A New Tab\n",
      " LinkedIn\n",
      " Link Opens In New Window\n",
      " Email\n",
      " Close-Medium (Default Size)-icon\n",
      " Close Menu\n",
      " What You Can Expect\n",
      " OUR HIRING GAME PLAN\n",
      " 01 Apply\n",
      " Our teams are made up of diverse skillsets, knowledge bases, inputs, ideas and backgrounds.\n",
      "                             We want you to find your fit – review job descriptions, departments and teams to discover\n",
      "                             the role for you.\n",
      " 02 Meet a Recruiter or Take an Assessment\n",
      " If selected for a corporate role, a recruiter will reach out to start your interview process\n",
      "                             and be your main contact\n",
      "                             throughout the process. For retail roles, you’ll complete an interactive assessment that\n",
      "                             includes a chat and quizzes and\n",
      "                             takes about 10-20 minutes to complete.  No matter the role, we want to learn about you – the\n",
      "                             whole you – so don’t shy\n",
      "                             away from how you approach world-class service and what makes you unique.\n",
      " 03 Interview\n",
      " Go into this stage confident by doing your research, understanding what we are looking for\n",
      "                             and being prepared for\n",
      "                             questions that are set up to learn more about you, and your background.\n",
      " Home\n",
      " About Us\n",
      " Contact\n",
      " Talent Community\n",
      " Terms\n",
      "               \n",
      "                    \n",
      "                     Nike Applicant Privacy Policy\n",
      "                     \n",
      " We offer a number of accommodations to complete our interview process including screen readers, sign language interpreters,\n",
      "                 accessible and single location for in-person interviews, closed captioning, and other reasonable modifications as\n",
      "                 needed.\n",
      " If you discover, as you navigate our application process, that you need assistance or an accommodation due to a\n",
      "                 disability, please contact us at +1 503-671-4156 and include your full name, best way to reach you, and the\n",
      "                 accommodation you request to assist with the application process.\n",
      " For more information, please refer to Equal Employment\n",
      "                         Opportunity is The Law.\n",
      " ©  Nike, Inc. All Rights Reserved\n",
      " Careers\n",
      " Chat\n",
      " Chat with our AI Assistant\n",
      " \n"
     ]
    }
   ],
   "source": [
    "import re\n",
    "\n",
    "page_data = loader.load().pop().page_content # web scraping\n",
    "print(re.sub(r\"\\n+\", \"\\n \", page_data))"
   ]
  },
  {
   "cell_type": "markdown",
   "metadata": {},
   "source": [
    "#### Use LLM to convert scraped data to a required json data \n",
    "* Pass the job posting to LLM along with a prompt template\n",
    "* Invoke the LLM to return only a valid Json Object without preamble and additional formatting"
   ]
  },
  {
   "cell_type": "code",
   "execution_count": 5,
   "metadata": {},
   "outputs": [
    {
     "name": "stdout",
     "output_type": "stream",
     "text": [
      "{\n",
      "\"role\": \"Lead Machine Learning Engineer - Supply Chain\",\n",
      "\"experience\": \"5+ years of professional experience in software engineering, data engineering, machine learning, or related field\",\n",
      "\"skills\": [\n",
      "\"Python\",\n",
      "\"algorithms and data structures\",\n",
      "\"AWS\",\n",
      "\"database technology (e.g. Postgres, Redis)\",\n",
      "\"data processing technology (e.g. EMR)\",\n",
      "\"agile development\",\n",
      "\"test driven development\",\n",
      "\"MLOps\",\n",
      "\"API development\",\n",
      "\"mathematical optimization\",\n",
      "\"cloud architecture\",\n",
      "\"Amazon Web Services\",\n",
      "\"Spark\",\n",
      "\"Kubernetes\",\n",
      "\"Docker\",\n",
      "\"Jenkins\",\n",
      "\"Databricks\",\n",
      "\"Terraform\"\n",
      "],\n",
      "\"description\": \"Develop robust advanced analytics and machine learning solutions that have a direct impact on the business. Own projects end-to-end - from conception to operationalization, demonstrating an understanding of the full software development lifecycle. Provide technical vision and guidance to teammates. Design and implement scalable applications that leverage prediction models and optimization programs to deliver data driven decisions that result in immense business impact.\"\n",
      "}\n"
     ]
    }
   ],
   "source": [
    "from langchain_core.prompts import PromptTemplate\n",
    "\n",
    "## creating a prompt to extract info as json from the JD\n",
    "## The optimal prompt is found through several iterations\n",
    "prompt_extract = PromptTemplate.from_template(\n",
    "    \"\"\"\n",
    "    ### SCRAPED TEXT FROM WEBSITE:\n",
    "    {page_data}\n",
    "    ### INSTRUCTION:\n",
    "    The scrapped text is form the career's page of a website.\n",
    "    Your job is to extract the job posting and return them in JSON Format containing\n",
    "    following keys: 'role', 'experience', 'skills' and 'description'\n",
    "    The JSON must start with `{{` and end with `}}` with no extra text, quotes, or markdown formatting.\n",
    "    ### STRICTLY VALID JSON OUTPUT(NO PREAMBLE):\n",
    "\"\"\"\n",
    ")\n",
    "\n",
    "## using a pipe operation to form a chain - passing the prompt to the llm\n",
    "chain_extract = prompt_extract | llm\n",
    "\n",
    "res = chain_extract.invoke(input = {\"page_data\":page_data})\n",
    "print(res.content)"
   ]
  },
  {
   "cell_type": "markdown",
   "metadata": {},
   "source": [
    "#### convert the text output to a JSON object\n",
    "* using Jsonparser from LangChain"
   ]
  },
  {
   "cell_type": "code",
   "execution_count": 6,
   "metadata": {},
   "outputs": [
    {
     "data": {
      "text/plain": [
       "{'role': 'Lead Machine Learning Engineer - Supply Chain',\n",
       " 'experience': '5+ years of professional experience in software engineering, data engineering, machine learning, or related field',\n",
       " 'skills': ['Python',\n",
       "  'algorithms and data structures',\n",
       "  'AWS',\n",
       "  'database technology (e.g. Postgres, Redis)',\n",
       "  'data processing technology (e.g. EMR)',\n",
       "  'agile development',\n",
       "  'test driven development',\n",
       "  'MLOps',\n",
       "  'API development',\n",
       "  'mathematical optimization',\n",
       "  'cloud architecture',\n",
       "  'Amazon Web Services',\n",
       "  'Spark',\n",
       "  'Kubernetes',\n",
       "  'Docker',\n",
       "  'Jenkins',\n",
       "  'Databricks',\n",
       "  'Terraform'],\n",
       " 'description': 'Develop robust advanced analytics and machine learning solutions that have a direct impact on the business. Own projects end-to-end - from conception to operationalization, demonstrating an understanding of the full software development lifecycle. Provide technical vision and guidance to teammates. Design and implement scalable applications that leverage prediction models and optimization programs to deliver data driven decisions that result in immense business impact.'}"
      ]
     },
     "execution_count": 6,
     "metadata": {},
     "output_type": "execute_result"
    }
   ],
   "source": [
    "from langchain_core.output_parsers import JsonOutputParser\n",
    "\n",
    "json_parser = JsonOutputParser()\n",
    "json_res = json_parser.parse(res.content)\n",
    "json_res"
   ]
  },
  {
   "cell_type": "code",
   "execution_count": 7,
   "metadata": {},
   "outputs": [
    {
     "data": {
      "text/plain": [
       "dict"
      ]
     },
     "execution_count": 7,
     "metadata": {},
     "output_type": "execute_result"
    }
   ],
   "source": [
    "type(json_res) ## type shoud be a dictionary"
   ]
  },
  {
   "cell_type": "markdown",
   "metadata": {},
   "source": [
    "#### Prepare Chromadb\n",
    "* chromadb will contain data of tech stacks and corresponding portfolio links\n",
    "* We match skills from the job posting with the skills in the chromadb\n",
    "* return few top matched portfolios that matched the skills form the job posting \n",
    "* Here we use persistent client rather than standard client (Ephemeral client)\n",
    "    * Standrad Client - The client operates entirely in memory, and all data is stored temporarily during the session. Once the session ends and the application is terminated all the stored data is lost.\n",
    "    * Persistent Client - The client stores data on disk at a specified local path, ensuring the informatioon remains available across all sessions."
   ]
  },
  {
   "cell_type": "code",
   "execution_count": 8,
   "metadata": {},
   "outputs": [
    {
     "data": {
      "text/html": [
       "<div>\n",
       "<style scoped>\n",
       "    .dataframe tbody tr th:only-of-type {\n",
       "        vertical-align: middle;\n",
       "    }\n",
       "\n",
       "    .dataframe tbody tr th {\n",
       "        vertical-align: top;\n",
       "    }\n",
       "\n",
       "    .dataframe thead th {\n",
       "        text-align: right;\n",
       "    }\n",
       "</style>\n",
       "<table border=\"1\" class=\"dataframe\">\n",
       "  <thead>\n",
       "    <tr style=\"text-align: right;\">\n",
       "      <th></th>\n",
       "      <th>Techstack</th>\n",
       "      <th>Links</th>\n",
       "    </tr>\n",
       "  </thead>\n",
       "  <tbody>\n",
       "    <tr>\n",
       "      <th>11</th>\n",
       "      <td>Kotlin, Android, Firebase</td>\n",
       "      <td>https://example.com/kotlin-android-portfolio</td>\n",
       "    </tr>\n",
       "    <tr>\n",
       "      <th>15</th>\n",
       "      <td>Backend, Kotlin, Spring Boot</td>\n",
       "      <td>https://example.com/kotlin-backend-portfolio</td>\n",
       "    </tr>\n",
       "    <tr>\n",
       "      <th>1</th>\n",
       "      <td>Angular,.NET, SQL Server</td>\n",
       "      <td>https://example.com/angular-portfolio</td>\n",
       "    </tr>\n",
       "    <tr>\n",
       "      <th>6</th>\n",
       "      <td>WordPress, PHP, MySQL</td>\n",
       "      <td>https://example.com/wordpress-portfolio</td>\n",
       "    </tr>\n",
       "    <tr>\n",
       "      <th>18</th>\n",
       "      <td>Machine Learning, Python, TensorFlow</td>\n",
       "      <td>https://example.com/ml-python-portfolio</td>\n",
       "    </tr>\n",
       "  </tbody>\n",
       "</table>\n",
       "</div>"
      ],
      "text/plain": [
       "                               Techstack  \\\n",
       "11             Kotlin, Android, Firebase   \n",
       "15          Backend, Kotlin, Spring Boot   \n",
       "1               Angular,.NET, SQL Server   \n",
       "6                  WordPress, PHP, MySQL   \n",
       "18  Machine Learning, Python, TensorFlow   \n",
       "\n",
       "                                           Links  \n",
       "11  https://example.com/kotlin-android-portfolio  \n",
       "15  https://example.com/kotlin-backend-portfolio  \n",
       "1          https://example.com/angular-portfolio  \n",
       "6        https://example.com/wordpress-portfolio  \n",
       "18       https://example.com/ml-python-portfolio  "
      ]
     },
     "execution_count": 8,
     "metadata": {},
     "output_type": "execute_result"
    }
   ],
   "source": [
    "import pandas as pd\n",
    "\n",
    "df = pd.read_csv(\"my_portfolio.csv\")\n",
    "\n",
    "df.sample(5)"
   ]
  },
  {
   "cell_type": "code",
   "execution_count": 9,
   "metadata": {},
   "outputs": [],
   "source": [
    "## iterate over the dataframe and input each recod into chromadb\n",
    "import chromadb\n",
    "import uuid\n",
    "## uuid (Universally unique identifier) - generates  aunique identifier for each record added to chromadb collection\n",
    "\n",
    "client = chromadb.PersistentClient(\"vectorstore\")\n",
    "## Persistent client creates a folder and stores the data inside that folder\n",
    "collection = client.get_or_create_collection(name = \"portfolio\")\n",
    "\n",
    "if not collection.count():\n",
    "    for _,row in df.iterrows():\n",
    "        collection.add(\n",
    "            documents=row[\"Techstack\"],\n",
    "            metadatas={\"links\": row[\"Links\"]},\n",
    "            ids = [str(uuid.uuid4())]           \n",
    "            )"
   ]
  },
  {
   "cell_type": "code",
   "execution_count": 10,
   "metadata": {},
   "outputs": [
    {
     "data": {
      "text/plain": [
       "[[{'links': 'https://example.com/ml-python-portfolio'},\n",
       "  {'links': 'https://example.com/python-portfolio'}],\n",
       " [{'links': 'https://example.com/react-native-portfolio'},\n",
       "  {'links': 'https://example.com/react-portfolio'}]]"
      ]
     },
     "execution_count": 10,
     "metadata": {},
     "output_type": "execute_result"
    }
   ],
   "source": [
    "## simple collection query check\n",
    "links = collection.query(\n",
    "    query_texts=[\n",
    "        \"Expertise in Python\",\n",
    "        \"Expertise in React Native\"\n",
    "    ], n_results = 2\n",
    "\n",
    ").get(\"metadatas\")\n",
    "links\n",
    "## for each of the queries we requested 2 top responses and thier corresponding metadata"
   ]
  },
  {
   "cell_type": "code",
   "execution_count": 11,
   "metadata": {},
   "outputs": [
    {
     "data": {
      "text/plain": [
       "['Python',\n",
       " 'algorithms and data structures',\n",
       " 'AWS',\n",
       " 'database technology (e.g. Postgres, Redis)',\n",
       " 'data processing technology (e.g. EMR)',\n",
       " 'agile development',\n",
       " 'test driven development',\n",
       " 'MLOps',\n",
       " 'API development',\n",
       " 'mathematical optimization',\n",
       " 'cloud architecture',\n",
       " 'Amazon Web Services',\n",
       " 'Spark',\n",
       " 'Kubernetes',\n",
       " 'Docker',\n",
       " 'Jenkins',\n",
       " 'Databricks',\n",
       " 'Terraform']"
      ]
     },
     "execution_count": 11,
     "metadata": {},
     "output_type": "execute_result"
    }
   ],
   "source": [
    "job = json_res\n",
    "job['skills']"
   ]
  },
  {
   "cell_type": "code",
   "execution_count": 12,
   "metadata": {},
   "outputs": [
    {
     "data": {
      "text/plain": [
       "[[{'links': 'https://example.com/ml-python-portfolio'},\n",
       "  {'links': 'https://example.com/python-portfolio'}],\n",
       " [{'links': 'https://example.com/ml-python-portfolio'},\n",
       "  {'links': 'https://example.com/magento-portfolio'}],\n",
       " [{'links': 'https://example.com/ios-ar-portfolio'},\n",
       "  {'links': 'https://example.com/wordpress-portfolio'}],\n",
       " [{'links': 'https://example.com/magento-portfolio'},\n",
       "  {'links': 'https://example.com/vue-portfolio'}],\n",
       " [{'links': 'https://example.com/ml-python-portfolio'},\n",
       "  {'links': 'https://example.com/magento-portfolio'}]]"
      ]
     },
     "execution_count": 12,
     "metadata": {},
     "output_type": "execute_result"
    }
   ],
   "source": [
    "## retrieving top portfolios against the job posting skill requirements\n",
    "links = collection.query(\n",
    "    query_texts=job[\"skills\"], n_results = 2\n",
    "\n",
    ").get(\"metadatas\")\n",
    "links[0:5]\n",
    "## for each of the queries we requested 2 top responses and thier corresponding metadata"
   ]
  },
  {
   "cell_type": "code",
   "execution_count": 13,
   "metadata": {},
   "outputs": [
    {
     "name": "stdout",
     "output_type": "stream",
     "text": [
      "Subject: Unlocking Business Potential with AI-Driven Supply Chain Solutions\n",
      "\n",
      "Dear Hiring Manager,\n",
      "\n",
      "I came across the job description for a Lead Machine Learning Engineer - Supply Chain, and I was impressed by the scope of the role. As a Business Development Executive at NewTech, I believe our team can help you develop robust advanced analytics and machine learning solutions that drive business impact.\n",
      "\n",
      "With our expertise in Python, algorithms, and data structures, we can design and implement scalable applications that leverage prediction models and optimization programs. Our experience with AWS, database technology (e.g., Postgres, Redis), and data processing technology (e.g., EMR) enables us to build efficient and reliable systems. We are well-versed in agile development, test-driven development, MLOps, API development, and mathematical optimization, ensuring that our solutions are tailored to your specific needs.\n",
      "\n",
      "Our team has a strong background in cloud architecture, with proficiency in Amazon Web Services, Spark, Kubernetes, Docker, Jenkins, Databricks, and Terraform. We have empowered numerous enterprises with tailored solutions, fostering scalability, process optimization, cost reduction, and heightened overall efficiency.\n",
      "\n",
      "To demonstrate our capabilities, I'd like to share some relevant examples from our portfolio:\n",
      "\n",
      "* https://example.com/ml-python-portfolio (Machine Learning and Python solutions)\n",
      "* https://example.com/devops-portfolio (DevOps and cloud-based solutions)\n",
      "* https://example.com/magento-portfolio (E-commerce and optimization solutions)\n",
      "\n",
      "These examples showcase our ability to develop and implement AI-driven solutions that drive business growth. I'd be delighted to discuss how our team can help you achieve your goals and provide a customized solution for your supply chain needs.\n",
      "\n",
      "Please feel free to contact me to schedule a call and explore how NewTech can support your business objectives.\n",
      "\n",
      "Best regards,\n",
      "\n",
      "Mr. James\n",
      "Business Development Executive\n",
      "NewTech\n"
     ]
    }
   ],
   "source": [
    "## create a prompt template for generating an Email\n",
    "prompt_email = PromptTemplate.from_template(\n",
    "    \"\"\"\n",
    "    ### JOB DESCRIPTION\n",
    "    {job_description}\n",
    "\n",
    "    ### INSTRUCTION\n",
    "    You are Mr.James a business development executive at NewTech. NewTech is an AI & Software \n",
    "    consulting company dedicated to facilitating the seamless integration of business process thriugh automated tools.\n",
    "    Over our experience , we have empowered neumerous enterprices with tailored solutions, fostering scalability,\n",
    "    process optimization, cost reduction, and heightened overall efficiency.\n",
    "    Your job is t write a cold email to a client the job mentioned above describing the capability of\n",
    "    NewTech in fullfilling thier needs.\n",
    "    Also add the most relevant ones from the following links to showcase Atliq's portfolio: {link_list}\n",
    "    Remember you are Mr.James , BDE at NewTech.\n",
    "    Do not provide a preamble.\n",
    "    ### EMAIL (NO PREAMBLE)\n",
    "\n",
    "\"\"\"\n",
    ")\n",
    "\n",
    "chain_email = prompt_email | llm\n",
    "\n",
    "res = chain_email.invoke({\"job_description\" :str(job), \"link_list\" : links})\n",
    "\n",
    "print(res.content)"
   ]
  },
  {
   "cell_type": "code",
   "execution_count": null,
   "metadata": {},
   "outputs": [],
   "source": []
  }
 ],
 "metadata": {
  "kernelspec": {
   "display_name": "Python 3",
   "language": "python",
   "name": "python3"
  },
  "language_info": {
   "codemirror_mode": {
    "name": "ipython",
    "version": 3
   },
   "file_extension": ".py",
   "mimetype": "text/x-python",
   "name": "python",
   "nbconvert_exporter": "python",
   "pygments_lexer": "ipython3",
   "version": "3.9.0"
  }
 },
 "nbformat": 4,
 "nbformat_minor": 2
}
